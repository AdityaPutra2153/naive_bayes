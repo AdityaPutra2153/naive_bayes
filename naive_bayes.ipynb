{
 "cells": [
  {
   "cell_type": "markdown",
   "id": "dce5b73c",
   "metadata": {},
   "source": [
    "# Identitas Diri\n",
    "Nama : Aditya Herdiansyah Putra  \n",
    "NIM  : A11.2021.13948"
   ]
  },
  {
   "cell_type": "markdown",
   "id": "d31ae150",
   "metadata": {},
   "source": [
    "# Menambahkan library\n",
    " \"numpy\" berguna memudahkan kita melakukan perhitungan saintifik seperti matriks, aljabar, statistik, dan sebagainya.    \n",
    " \"matpotlib.pyplot\" berguna untuk memvisualisaikan data melalui grafik atau diagram      \n",
    " \"pandas\" berguna untuk memproses data, mulai pembersihan data, manipulasi data, hingga melakukan analisis data."
   ]
  },
  {
   "cell_type": "code",
   "execution_count": 1,
   "id": "1ec1dede",
   "metadata": {},
   "outputs": [],
   "source": [
    "import numpy as np\n",
    "import matplotlib.pyplot as plt\n",
    "import pandas as pd"
   ]
  },
  {
   "cell_type": "markdown",
   "id": "4df0f5da",
   "metadata": {},
   "source": [
    "# Import dataset\n",
    "Mengimport dataset dan kemudian pisahkan untuk atribut ditampung pada variable x dan untuk label ditampung pada variable y agar data tersebut bisa dilakukan proses klasifikasi. Setelah itu, kita tampilkan variable x dan y untuk memastikan bahwa perintah sudah berhasil dijalankan."
   ]
  },
  {
   "cell_type": "code",
   "execution_count": 3,
   "id": "51fa0c6f",
   "metadata": {},
   "outputs": [],
   "source": [
    "dataset = pd.read_csv(\"car_data.csv\")\n",
    "x = dataset.iloc[:, [2,3]].values\n",
    "y = dataset.iloc[:, -1].values"
   ]
  },
  {
   "cell_type": "code",
   "execution_count": 4,
   "id": "80e00009",
   "metadata": {},
   "outputs": [
    {
     "name": "stdout",
     "output_type": "stream",
     "text": [
      "[[    35  20000]\n",
      " [    40  43500]\n",
      " [    49  74000]\n",
      " ...\n",
      " [    28 138500]\n",
      " [    48 134000]\n",
      " [    44  73500]]\n"
     ]
    }
   ],
   "source": [
    "print(x)"
   ]
  },
  {
   "cell_type": "code",
   "execution_count": 5,
   "id": "1bba54e7",
   "metadata": {},
   "outputs": [
    {
     "name": "stdout",
     "output_type": "stream",
     "text": [
      "[0 0 0 1 0 1 1 0 0 0 0 1 0 0 1 1 0 0 1 1 0 1 1 0 0 0 1 1 1 1 1 0 0 0 1 0 0\n",
      " 1 1 0 0 1 0 0 1 0 0 1 1 0 1 1 1 0 1 1 1 0 0 1 1 1 1 0 0 0 0 1 0 0 0 1 0 0\n",
      " 1 1 0 0 1 1 1 1 1 0 1 1 1 0 0 0 0 1 0 0 1 1 1 0 0 0 0 1 0 0 0 1 0 1 0 1 1\n",
      " 0 0 0 1 0 1 1 0 0 1 1 0 0 0 1 0 0 1 1 0 0 1 0 0 0 0 1 0 1 0 0 1 0 0 0 0 0\n",
      " 0 0 0 0 0 1 1 1 0 1 0 0 1 1 1 0 1 1 0 0 1 0 0 1 0 0 1 0 1 1 1 1 1 0 0 1 1\n",
      " 1 1 0 1 1 0 0 0 0 0 0 0 0 0 1 0 0 0 0 0 1 1 0 1 1 1 1 0 0 0 0 1 1 0 0 0 0\n",
      " 0 0 0 0 1 1 0 0 0 0 1 0 1 1 1 1 0 0 1 1 1 0 0 1 0 0 0 1 1 1 0 0 1 0 1 0 0\n",
      " 0 0 0 0 1 1 1 0 1 0 0 0 0 1 0 0 0 0 0 0 1 0 0 1 1 1 0 1 0 1 0 0 1 1 0 0 0\n",
      " 0 1 1 1 1 0 0 0 1 1 1 0 0 0 0 1 1 0 1 1 0 1 0 0 0 1 0 1 0 0 0 0 0 0 0 1 0\n",
      " 0 1 0 1 0 1 0 0 0 1 0 0 1 0 1 1 1 1 1 0 0 0 1 0 1 1 0 1 0 0 1 1 1 0 0 0 0\n",
      " 1 1 0 0 0 0 1 0 1 1 0 1 0 0 0 1 1 0 0 1 0 0 1 1 0 0 1 0 0 1 0 0 0 1 0 0 0\n",
      " 0 0 1 1 0 1 0 0 1 1 1 0 0 0 0 0 0 1 1 0 0 0 0 0 1 0 0 0 1 1 0 0 0 1 0 0 1\n",
      " 0 1 0 0 0 0 1 1 0 1 0 0 1 1 1 0 0 0 0 1 0 0 0 0 1 1 0 1 0 1 1 1 0 0 1 0 1\n",
      " 0 0 0 0 1 0 1 1 1 0 0 1 0 1 0 1 1 1 1 0 0 0 0 0 0 1 0 0 1 1 0 1 0 1 1 1 0\n",
      " 1 0 1 0 0 0 0 1 0 0 0 0 1 0 1 1 0 1 1 1 0 0 0 1 0 0 1 0 0 1 0 0 1 0 1 0 0\n",
      " 0 1 0 0 0 0 1 0 0 1 0 1 0 1 0 1 1 0 0 0 0 0 1 1 1 0 0 1 0 0 1 0 0 0 0 0 0\n",
      " 0 0 0 0 0 0 0 0 0 1 0 0 0 0 1 0 0 0 0 1 1 0 0 0 1 1 1 0 0 0 1 1 0 0 1 0 0\n",
      " 1 0 0 0 0 0 1 0 0 1 0 1 0 1 1 1 1 0 0 0 0 0 1 1 0 0 1 1 0 1 1 1 1 0 0 0 1\n",
      " 0 1 0 0 1 1 0 1 0 0 0 1 1 0 0 0 0 0 0 0 0 0 0 0 1 0 0 0 1 1 0 0 0 1 1 0 0\n",
      " 0 0 0 0 0 0 0 0 1 0 1 0 0 1 1 0 1 1 0 1 0 1 1 0 1 0 0 0 0 1 0 0 1 0 1 0 0\n",
      " 0 0 1 1 1 1 0 0 1 1 0 0 0 1 0 0 0 0 0 0 1 1 0 1 0 1 0 0 1 1 0 0 0 1 0 1 0\n",
      " 1 1 1 0 0 0 1 0 0 1 1 1 1 0 1 0 0 1 1 1 0 0 1 1 0 1 0 0 1 0 0 0 0 0 0 0 1\n",
      " 0 1 1 0 1 0 1 1 1 1 1 0 0 1 0 0 0 0 0 0 1 0 1 0 0 0 0 0 1 0 1 0 0 1 0 0 1\n",
      " 0 0 0 0 1 0 1 0 0 0 1 0 1 1 1 0 0 0 0 1 0 0 1 1 1 0 0 0 1 0 1 1 1 1 0 1 0\n",
      " 0 1 1 1 0 1 1 1 1 1 0 1 0 0 0 0 0 1 0 1 0 0 1 1 0 0 0 0 0 1 0 1 0 1 0 1 0\n",
      " 0 0 0 0 0 1 0 1 0 1 0 1 0 1 1 0 0 1 0 0 1 0 1 0 0 0 0 1 1 1 1 0 0 0 1 1 0\n",
      " 0 0 0 1 1 0 0 1 1 0 1 0 0 0 0 0 1 0 1 0 0 0 0 0 1 0 1 0 0 0 0 0 1 0 0 1 1\n",
      " 0]\n"
     ]
    }
   ],
   "source": [
    "print (y)"
   ]
  },
  {
   "cell_type": "markdown",
   "id": "9567ba93",
   "metadata": {},
   "source": [
    "# Memisahkan data untuk Training dan Testing\n",
    "Memisahkan data yang mana sebanyak 3/4 dari data akan digunakan untuk Training sedangkan untuk sisanya yaitu 1/4 digunakan untuk Testing. Pada proses ini, saya memanfaatkan library dari sklearn.model_selection dan menggunakan function train_test_split."
   ]
  },
  {
   "cell_type": "code",
   "execution_count": 7,
   "id": "053ac95e",
   "metadata": {},
   "outputs": [],
   "source": [
    "from sklearn.model_selection import train_test_split\n",
    "x_train, x_test, y_train, y_test = train_test_split(x,y, test_size=0.25, random_state=0)\n"
   ]
  },
  {
   "cell_type": "code",
   "execution_count": 8,
   "id": "9630db81",
   "metadata": {},
   "outputs": [
    {
     "name": "stdout",
     "output_type": "stream",
     "text": [
      "[[    20  20500]\n",
      " [    50  25500]\n",
      " [    51 136500]\n",
      " ...\n",
      " [    61  84500]\n",
      " [    30  62000]\n",
      " [    19  45500]]\n"
     ]
    }
   ],
   "source": [
    "print (x_train)"
   ]
  },
  {
   "cell_type": "code",
   "execution_count": 9,
   "id": "ddcb44bc",
   "metadata": {},
   "outputs": [
    {
     "name": "stdout",
     "output_type": "stream",
     "text": [
      "[[    54 136500]\n",
      " [    41  67500]\n",
      " [    50  29500]\n",
      " [    20  86000]\n",
      " [    27  31500]\n",
      " [    36  48500]\n",
      " [    40  97500]\n",
      " [    51  45500]\n",
      " [    55  71500]\n",
      " [    28  89500]\n",
      " [    47  80500]\n",
      " [    19  21000]\n",
      " [    35  44500]\n",
      " [    27  31000]\n",
      " [    46  33500]\n",
      " [    49  36000]\n",
      " [    33  60000]\n",
      " [    52  67500]\n",
      " [    42 108000]\n",
      " [    34  32500]\n",
      " [    32  67500]\n",
      " [    38  58500]\n",
      " [    27  82500]\n",
      " [    51  98500]\n",
      " [    55 140500]\n",
      " [    41  72500]\n",
      " [    37  75000]\n",
      " [    39  42000]\n",
      " [    38 145500]\n",
      " [    40  43500]\n",
      " [    40  80500]\n",
      " [    41  73500]\n",
      " [    29  86500]\n",
      " [    27  88000]\n",
      " [    25  80000]\n",
      " [    37  52000]\n",
      " [    26  80500]\n",
      " [    34  72000]\n",
      " [    38  71000]\n",
      " [    58 127500]\n",
      " [    36  76500]\n",
      " [    47  23500]\n",
      " [    54  35500]\n",
      " [    38  61000]\n",
      " [    51  37500]\n",
      " [    42  77500]\n",
      " [    30  15000]\n",
      " [    40  75000]\n",
      " [    31  18500]\n",
      " [    18  82000]\n",
      " [    57 134500]\n",
      " [    34  44500]\n",
      " [    42  65000]\n",
      " [    38  65000]\n",
      " [    41  53500]\n",
      " [    48  96000]\n",
      " [    34 150500]\n",
      " [    42  53000]\n",
      " [    31  71000]\n",
      " [    20  36000]\n",
      " [    47  97500]\n",
      " [    48  52500]\n",
      " [    57  72500]\n",
      " [    38  54500]\n",
      " [    26  80000]\n",
      " [    39  62500]\n",
      " [    42 136500]\n",
      " [    35  73500]\n",
      " [    27  36500]\n",
      " [    41  48500]\n",
      " [    41  58500]\n",
      " [    49 141000]\n",
      " [    25  59500]\n",
      " [    28  59500]\n",
      " [    38  75500]\n",
      " [    56  84500]\n",
      " [    60  42000]\n",
      " [    49  97500]\n",
      " [    53  72000]\n",
      " [    22  73500]\n",
      " [    40  60000]\n",
      " [    37 127500]\n",
      " [    54 104000]\n",
      " [    39  60500]\n",
      " [    39  62500]\n",
      " [    35  60000]\n",
      " [    62  90500]\n",
      " [    46  22000]\n",
      " [    38  94500]\n",
      " [    47  49000]\n",
      " [    43  77500]\n",
      " [    41 108500]\n",
      " [    59 102500]\n",
      " [    39  75000]\n",
      " [    46 114500]\n",
      " [    53  39500]\n",
      " [    51  92500]\n",
      " [    18  44000]\n",
      " [    24  21500]\n",
      " [    42 108500]\n",
      " [    44  62500]\n",
      " [    33 118500]\n",
      " [    35  22000]\n",
      " [    35  26500]\n",
      " [    47  51000]\n",
      " [    40  82500]\n",
      " [    37  76500]\n",
      " [    47  20000]\n",
      " [    38  34500]\n",
      " [    27  16500]\n",
      " [    26  17000]\n",
      " [    45  55500]\n",
      " [    19  69500]\n",
      " [    20  26500]\n",
      " [    21  83500]\n",
      " [    55  92500]\n",
      " [    20  22500]\n",
      " [    19  70000]\n",
      " [    40 123500]\n",
      " [    36  63000]\n",
      " [    27  85500]\n",
      " [    37  34500]\n",
      " [    40  72500]\n",
      " [    42  54000]\n",
      " [    50 109500]\n",
      " [    39 127500]\n",
      " [    50  44000]\n",
      " [    58  75500]\n",
      " [    56 145500]\n",
      " [    31  81500]\n",
      " [    43  74500]\n",
      " [    28  85000]\n",
      " [    27  90000]\n",
      " [    60 131500]\n",
      " [    28  97500]\n",
      " [    27  44500]\n",
      " [    27 137000]\n",
      " [    30  84500]\n",
      " [    47  83500]\n",
      " [    23  28500]\n",
      " [    50  88000]\n",
      " [    37  57000]\n",
      " [    56  40500]\n",
      " [    58  38000]\n",
      " [    42  81500]\n",
      " [    63  36500]\n",
      " [    38  61000]\n",
      " [    23  28000]\n",
      " [    49  43500]\n",
      " [    44 113500]\n",
      " [    38  80000]\n",
      " [    45  26000]\n",
      " [    52 147500]\n",
      " [    38  76500]\n",
      " [    24  32000]\n",
      " [    25  56500]\n",
      " [    52  90000]\n",
      " [    29  43000]\n",
      " [    37  33000]\n",
      " [    30  29500]\n",
      " [    35 108000]\n",
      " [    48  33000]\n",
      " [    26  88500]\n",
      " [    43 150500]\n",
      " [    36  61500]\n",
      " [    40 139500]\n",
      " [    40  43500]\n",
      " [    49  34500]\n",
      " [    51  89500]\n",
      " [    36  66500]\n",
      " [    48 138000]\n",
      " [    52  30500]\n",
      " [    40  74500]\n",
      " [    45  72500]\n",
      " [    56 126500]\n",
      " [    27  87500]\n",
      " [    42 104000]\n",
      " [    39  71000]\n",
      " [    45 106500]\n",
      " [    22  89500]\n",
      " [    41  79000]\n",
      " [    44  73500]\n",
      " [    22  63000]\n",
      " [    60  34000]\n",
      " [    27  84000]\n",
      " [    29  28000]\n",
      " [    46 117000]\n",
      " [    46  23000]\n",
      " [    58 144000]\n",
      " [    35  88000]\n",
      " [    59 130000]\n",
      " [    27  54000]\n",
      " [    43 112000]\n",
      " [    47  33500]\n",
      " [    55 109500]\n",
      " [    35  55000]\n",
      " [    39 128500]\n",
      " [    23  64500]\n",
      " [    40  80500]\n",
      " [    39  62500]\n",
      " [    26  84000]\n",
      " [    40  57000]\n",
      " [    33  19500]\n",
      " [    32  59500]\n",
      " [    37  53500]\n",
      " [    45  81500]\n",
      " [    48 141000]\n",
      " [    59  29000]\n",
      " [    40  72500]\n",
      " [    35  57000]\n",
      " [    29  83000]\n",
      " [    36 125000]\n",
      " [    39 114500]\n",
      " [    57 122000]\n",
      " [    49  31500]\n",
      " [    24  67500]\n",
      " [    30  89000]\n",
      " [    37  79000]\n",
      " [    21  37500]\n",
      " [    54 105500]\n",
      " [    40  95500]\n",
      " [    21  16000]\n",
      " [    24  83500]\n",
      " [    21  72000]\n",
      " [    40  65000]\n",
      " [    43  54500]\n",
      " [    44  74500]\n",
      " [    26  91500]\n",
      " [    46  79000]\n",
      " [    50  36000]\n",
      " [    27  58000]\n",
      " [    20  82000]\n",
      " [    63  44500]\n",
      " [    50  87500]\n",
      " [    49  88000]\n",
      " [    50  53500]\n",
      " [    50  45500]\n",
      " [    19  19000]\n",
      " [    34 115000]\n",
      " [    38  59500]\n",
      " [    59  24500]\n",
      " [    28  37000]\n",
      " [    59  83000]\n",
      " [    50  52500]\n",
      " [    30  48500]\n",
      " [    19  26000]\n",
      " [    41  52500]\n",
      " [    49  74000]\n",
      " [    44 130500]\n",
      " [    35  91000]]\n"
     ]
    }
   ],
   "source": [
    "print (x_test)"
   ]
  },
  {
   "cell_type": "code",
   "execution_count": 10,
   "id": "6952b144",
   "metadata": {},
   "outputs": [
    {
     "name": "stdout",
     "output_type": "stream",
     "text": [
      "[0 1 1 1 1 1 1 0 0 1 0 1 1 0 1 0 1 1 1 1 1 0 1 1 1 0 0 0 1 0 0 0 0 1 0 0 0\n",
      " 1 0 0 0 1 0 1 1 0 1 0 0 0 1 0 0 1 0 0 1 1 1 0 1 0 0 0 1 0 0 0 1 0 1 1 0 1\n",
      " 0 0 1 0 1 0 1 1 0 0 1 1 0 0 1 0 1 0 0 0 1 0 0 0 1 0 1 0 1 1 0 0 0 1 0 1 1\n",
      " 0 1 0 1 1 0 1 0 1 0 0 0 1 0 0 0 1 0 1 0 0 0 1 0 0 0 0 1 1 0 1 0 1 0 1 0 0\n",
      " 0 1 1 1 1 1 0 0 0 1 1 1 1 0 1 0 0 1 1 1 0 1 0 0 0 0 1 0 0 1 1 0 1 1 0 0 0\n",
      " 0 0 1 1 1 0 1 0 1 0 0 0 0 1 0 0 0 0 1 0 0 0 0 0 1 0 1 0 1 0 1 0 1 0 0 0 0\n",
      " 0 0 0 0 1 0 1 0 0 0 0 1 0 0 0 0 1 0 0 0 0 0 1 0 0 0 0 0 0 1 1 0 0 1 0 1 1\n",
      " 0 1 0 0 0 0 0 0 1 1 0 1 1 0 0 0 1 0 1 0 1 0 0 0 0 0 0 1 0 0 0 1 1 0 1 1 0\n",
      " 1 1 1 1 1 1 0 1 0 1 1 1 0 0 1 0 0 0 0 0 0 0 0 0 1 1 0 1 1 0 0 1 1 1 0 0 0\n",
      " 0 0 0 0 0 1 1 0 0 0 1 0 1 0 0 1 1 1 0 0 0 0 0 1 0 1 1 0 1 1 1 0 0 1 0 0 0\n",
      " 0 1 1 0 1 0 1 1 0 0 0 1 0 0 1 0 0 0 1 0 0 0 1 0 0 0 1 0 0 0 1 0 0 1 1 0 0\n",
      " 0 1 0 0 0 1 0 1 0 0 0 0 0 0 0 1 1 0 0 1 0 0 0 0 0 0 0 0 1 0 0 1 0 0 1 1 0\n",
      " 1 1 0 0 0 0 0 1 1 0 0 1 1 1 1 1 0 0 1 0 1 0 0 0 1 1 0 0 1 1 1 0 0 1 0 1 1\n",
      " 1 0 0 0 0 1 0 1 1 1 1 0 0 0 0 1 0 0 1 0 1 0 1 0 0 1 1 0 0 1 1 0 0 1 1 1 1\n",
      " 0 1 1 1 1 1 0 0 0 0 1 0 0 0 1 0 1 0 1 0 1 1 0 0 1 0 1 1 0 0 1 0 0 0 0 0 0\n",
      " 0 1 1 0 0 1 1 0 1 1 0 1 0 0 0 1 1 1 0 0 0 1 0 1 0 1 1 0 0 0 0 0 0 0 1 0 0\n",
      " 1 0 1 1 0 1 0 1 0 0 0 1 0 0 0 0 0 0 0 0 0 1 0 0 0 1 1 0 0 0 0 0 0 1 1 1 1\n",
      " 1 1 0 1 0 0 0 0 1 0 0 0 1 1 1 1 0 0 1 0 0 0 1 0 0 0 1 0 0 1 0 1 1 1 0 1 0\n",
      " 1 1 0 1 0 0 1 0 0 1 0 0 0 0 1 1 0 0 1 1 1 1 1 1 1 0 1 0 0 0 0 0 1 0 0 1 1\n",
      " 0 1 0 1 0 1 1 0 1 0 1 1 0 0 0 0 1 0 0 1 1 0 0 1 0 0 0 0 1 1 0 0 0 0 0 0 0\n",
      " 0 0 0 0 1 0 0 1 0 0]\n"
     ]
    }
   ],
   "source": [
    "print(y_train)"
   ]
  },
  {
   "cell_type": "code",
   "execution_count": 11,
   "id": "c8a92611",
   "metadata": {},
   "outputs": [
    {
     "name": "stdout",
     "output_type": "stream",
     "text": [
      "[0 0 1 0 0 0 1 0 1 0 1 0 0 0 1 1 0 0 1 0 0 0 0 1 1 1 0 0 1 0 1 0 0 0 0 0 0\n",
      " 0 0 1 0 0 1 0 1 1 0 0 0 0 1 0 0 0 0 1 1 0 0 0 0 1 1 0 0 0 1 0 0 0 0 1 0 0\n",
      " 0 1 1 1 1 0 0 1 1 0 0 0 1 0 1 1 0 1 1 1 1 1 1 0 0 1 0 1 0 0 1 0 0 1 0 0 0\n",
      " 0 0 0 0 1 0 0 1 0 0 0 0 0 1 1 0 1 1 0 0 0 0 1 1 0 1 0 0 0 1 0 1 1 0 1 0 0\n",
      " 1 1 0 1 1 0 0 0 1 0 0 0 0 1 0 1 0 1 0 1 1 0 1 1 0 0 1 0 1 0 1 0 0 0 0 1 0\n",
      " 0 1 1 1 0 1 0 1 1 1 0 1 0 0 0 0 0 0 0 0 0 0 1 1 0 0 1 1 1 1 0 0 1 0 1 1 0\n",
      " 0 0 0 0 0 0 1 1 0 0 1 1 1 1 0 0 0 0 1 0 0 1 0 0 0 0 1 1]\n"
     ]
    }
   ],
   "source": [
    "print (y_test)"
   ]
  },
  {
   "cell_type": "markdown",
   "id": "5c17b1eb",
   "metadata": {},
   "source": [
    "# Mengubah data menjadi skala\n",
    "Proses ini dilakukan karena data x_train dan x_test memiliki jarak/interval yang cukup jauh maka agar memudahkan saya dalam memproses data tersebut maka saya membutuhkan skala. Pada proses ini saya menggunakan StandartScaler dari library sklearn.preprocessing."
   ]
  },
  {
   "cell_type": "code",
   "execution_count": 13,
   "id": "0cb5facb",
   "metadata": {},
   "outputs": [],
   "source": [
    "from sklearn.preprocessing import StandardScaler\n",
    "sc = StandardScaler()\n",
    "x_train = sc.fit_transform(x_train)\n",
    "x_test = sc.transform(x_test)"
   ]
  },
  {
   "cell_type": "code",
   "execution_count": 14,
   "id": "fb04a5b4",
   "metadata": {},
   "outputs": [
    {
     "name": "stdout",
     "output_type": "stream",
     "text": [
      "[[-1.92084369 -1.50249061]\n",
      " [ 0.91133082 -1.35965201]\n",
      " [ 1.00573664  1.81136479]\n",
      " ...\n",
      " [ 1.94979481  0.3258434 ]\n",
      " [-0.97678552 -0.31693027]\n",
      " [-2.01524951 -0.78829764]]\n"
     ]
    }
   ],
   "source": [
    "print(x_train)"
   ]
  },
  {
   "cell_type": "code",
   "execution_count": 15,
   "id": "6a3acbda",
   "metadata": {},
   "outputs": [
    {
     "name": "stdout",
     "output_type": "stream",
     "text": [
      "[[ 1.28895409  1.81136479]\n",
      " [ 0.06167847 -0.15980782]\n",
      " [ 0.91133082 -1.24538114]\n",
      " [-1.92084369  0.36869498]\n",
      " [-1.26000297 -1.1882457 ]\n",
      " [-0.41035062 -0.70259448]\n",
      " [-0.03272735  0.69722375]\n",
      " [ 1.00573664 -0.78829764]\n",
      " [ 1.3833599  -0.04553694]\n",
      " [-1.16559715  0.468682  ]\n",
      " [ 0.62811337  0.21157253]\n",
      " [-2.01524951 -1.48820675]\n",
      " [-0.50475643 -0.81686535]\n",
      " [-1.26000297 -1.20252956]\n",
      " [ 0.53370755 -1.13111026]\n",
      " [ 0.816925   -1.05969097]\n",
      " [-0.69356807 -0.37406571]\n",
      " [ 1.10014245 -0.15980782]\n",
      " [ 0.15608428  0.9971848 ]\n",
      " [-0.59916225 -1.15967798]\n",
      " [-0.78797389 -0.15980782]\n",
      " [-0.22153898 -0.41691729]\n",
      " [-1.26000297  0.26870796]\n",
      " [ 1.00573664  0.72579147]\n",
      " [ 1.3833599   1.92563566]\n",
      " [ 0.06167847 -0.01696923]\n",
      " [-0.3159448   0.05445007]\n",
      " [-0.12713317 -0.88828465]\n",
      " [-0.22153898  2.06847426]\n",
      " [-0.03272735 -0.84543307]\n",
      " [-0.03272735  0.21157253]\n",
      " [ 0.06167847  0.01159849]\n",
      " [-1.07119134  0.38297884]\n",
      " [-1.26000297  0.42583042]\n",
      " [-1.4488146   0.19728867]\n",
      " [-0.3159448  -0.60260746]\n",
      " [-1.35440879  0.21157253]\n",
      " [-0.59916225 -0.03125308]\n",
      " [-0.22153898 -0.0598208 ]\n",
      " [ 1.66657735  1.55425532]\n",
      " [-0.41035062  0.09730165]\n",
      " [ 0.62811337 -1.41678745]\n",
      " [ 1.28895409 -1.07397483]\n",
      " [-0.22153898 -0.34549799]\n",
      " [ 1.00573664 -1.01683939]\n",
      " [ 0.15608428  0.12586937]\n",
      " [-0.97678552 -1.65961306]\n",
      " [-0.03272735  0.05445007]\n",
      " [-0.8823797  -1.55962605]\n",
      " [-2.10965532  0.2544241 ]\n",
      " [ 1.57217154  1.75422935]\n",
      " [-0.59916225 -0.81686535]\n",
      " [ 0.15608428 -0.23122712]\n",
      " [-0.22153898 -0.23122712]\n",
      " [ 0.06167847 -0.55975588]\n",
      " [ 0.72251919  0.65437217]\n",
      " [-0.59916225  2.21131285]\n",
      " [ 0.15608428 -0.57403974]\n",
      " [-0.8823797  -0.0598208 ]\n",
      " [-1.92084369 -1.05969097]\n",
      " [ 0.62811337  0.69722375]\n",
      " [ 0.72251919 -0.5883236 ]\n",
      " [ 1.57217154 -0.01696923]\n",
      " [-0.22153898 -0.53118817]\n",
      " [-1.35440879  0.19728867]\n",
      " [-0.12713317 -0.30264641]\n",
      " [ 0.15608428  1.81136479]\n",
      " [-0.50475643  0.01159849]\n",
      " [-1.26000297 -1.04540711]\n",
      " [ 0.06167847 -0.70259448]\n",
      " [ 0.06167847 -0.41691729]\n",
      " [ 0.816925    1.93991952]\n",
      " [-1.4488146  -0.38834957]\n",
      " [-1.16559715 -0.38834957]\n",
      " [-0.22153898  0.06873393]\n",
      " [ 1.47776572  0.3258434 ]\n",
      " [ 1.85538899 -0.88828465]\n",
      " [ 0.816925    0.69722375]\n",
      " [ 1.19454827 -0.03125308]\n",
      " [-1.73203205  0.01159849]\n",
      " [-0.03272735 -0.37406571]\n",
      " [-0.3159448   1.55425532]\n",
      " [ 1.28895409  0.88291392]\n",
      " [-0.12713317 -0.35978185]\n",
      " [-0.12713317 -0.30264641]\n",
      " [-0.50475643 -0.37406571]\n",
      " [ 2.04420062  0.49724972]\n",
      " [ 0.53370755 -1.45963903]\n",
      " [-0.22153898  0.61152059]\n",
      " [ 0.62811337 -0.68831062]\n",
      " [ 0.2504901   0.12586937]\n",
      " [ 0.06167847  1.01146866]\n",
      " [ 1.76098317  0.84006234]\n",
      " [-0.12713317  0.05445007]\n",
      " [ 0.53370755  1.18287497]\n",
      " [ 1.19454827 -0.95970395]\n",
      " [ 1.00573664  0.55438515]\n",
      " [-2.10965532 -0.83114921]\n",
      " [-1.54322042 -1.47392289]\n",
      " [ 0.15608428  1.01146866]\n",
      " [ 0.34489592 -0.30264641]\n",
      " [-0.69356807  1.29714585]\n",
      " [-0.50475643 -1.45963903]\n",
      " [-0.50475643 -1.3310843 ]\n",
      " [ 0.62811337 -0.63117518]\n",
      " [-0.03272735  0.26870796]\n",
      " [-0.3159448   0.09730165]\n",
      " [ 0.62811337 -1.51677447]\n",
      " [-0.22153898 -1.10254254]\n",
      " [-1.26000297 -1.61676148]\n",
      " [-1.35440879 -1.60247763]\n",
      " [ 0.43930173 -0.50262045]\n",
      " [-2.01524951 -0.10267238]\n",
      " [-1.92084369 -1.3310843 ]\n",
      " [-1.82643787  0.29727568]\n",
      " [ 1.3833599   0.55438515]\n",
      " [-1.92084369 -1.44535517]\n",
      " [-2.01524951 -0.08838852]\n",
      " [-0.03272735  1.43998444]\n",
      " [-0.41035062 -0.28836255]\n",
      " [-1.26000297  0.35441112]\n",
      " [-0.3159448  -1.10254254]\n",
      " [-0.03272735 -0.01696923]\n",
      " [ 0.15608428 -0.54547203]\n",
      " [ 0.91133082  1.04003638]\n",
      " [-0.12713317  1.55425532]\n",
      " [ 0.91133082 -0.83114921]\n",
      " [ 1.66657735  0.06873393]\n",
      " [ 1.47776572  2.06847426]\n",
      " [-0.8823797   0.24014025]\n",
      " [ 0.2504901   0.04016621]\n",
      " [-1.16559715  0.34012726]\n",
      " [-1.26000297  0.48296586]\n",
      " [ 1.85538899  1.66852619]\n",
      " [-1.16559715  0.69722375]\n",
      " [-1.26000297 -0.81686535]\n",
      " [-1.26000297  1.82564865]\n",
      " [-0.97678552  0.3258434 ]\n",
      " [ 0.62811337  0.29727568]\n",
      " [-1.63762624 -1.27394886]\n",
      " [ 0.91133082  0.42583042]\n",
      " [-0.3159448  -0.45976887]\n",
      " [ 1.47776572 -0.93113623]\n",
      " [ 1.66657735 -1.00255553]\n",
      " [ 0.15608428  0.24014025]\n",
      " [ 2.13860644 -1.04540711]\n",
      " [-0.22153898 -0.34549799]\n",
      " [-1.63762624 -1.28823272]\n",
      " [ 0.816925   -0.84543307]\n",
      " [ 0.34489592  1.15430725]\n",
      " [-0.22153898  0.19728867]\n",
      " [ 0.43930173 -1.34536816]\n",
      " [ 1.10014245  2.12560969]\n",
      " [-0.22153898  0.09730165]\n",
      " [-1.54322042 -1.17396184]\n",
      " [-1.4488146  -0.47405273]\n",
      " [ 1.10014245  0.48296586]\n",
      " [-1.07119134 -0.85971693]\n",
      " [-0.3159448  -1.14539412]\n",
      " [-0.97678552 -1.24538114]\n",
      " [-0.50475643  0.9971848 ]\n",
      " [ 0.72251919 -1.14539412]\n",
      " [-1.35440879  0.44011428]\n",
      " [ 0.2504901   2.21131285]\n",
      " [-0.41035062 -0.33121413]\n",
      " [-0.03272735  1.89706794]\n",
      " [-0.03272735 -0.84543307]\n",
      " [ 0.816925   -1.10254254]\n",
      " [ 1.00573664  0.468682  ]\n",
      " [-0.41035062 -0.18837554]\n",
      " [ 0.72251919  1.85421636]\n",
      " [ 1.10014245 -1.21681342]\n",
      " [-0.03272735  0.04016621]\n",
      " [ 0.43930173 -0.01696923]\n",
      " [ 1.47776572  1.5256876 ]\n",
      " [-1.26000297  0.41154656]\n",
      " [ 0.15608428  0.88291392]\n",
      " [-0.12713317 -0.0598208 ]\n",
      " [ 0.43930173  0.95433322]\n",
      " [-1.73203205  0.468682  ]\n",
      " [ 0.06167847  0.16872095]\n",
      " [ 0.34489592  0.01159849]\n",
      " [-1.73203205 -0.28836255]\n",
      " [ 1.85538899 -1.1168264 ]\n",
      " [-1.26000297  0.31155954]\n",
      " [-1.07119134 -1.28823272]\n",
      " [ 0.53370755  1.25429427]\n",
      " [ 0.53370755 -1.43107131]\n",
      " [ 1.66657735  2.02562268]\n",
      " [-0.50475643  0.42583042]\n",
      " [ 1.76098317  1.62567461]\n",
      " [-1.26000297 -0.54547203]\n",
      " [ 0.2504901   1.11145567]\n",
      " [ 0.62811337 -1.13111026]\n",
      " [ 1.3833599   1.04003638]\n",
      " [-0.50475643 -0.51690431]\n",
      " [-0.12713317  1.58282303]\n",
      " [-1.63762624 -0.24551098]\n",
      " [-0.03272735  0.21157253]\n",
      " [-0.12713317 -0.30264641]\n",
      " [-1.35440879  0.31155954]\n",
      " [-0.03272735 -0.45976887]\n",
      " [-0.69356807 -1.53105833]\n",
      " [-0.78797389 -0.38834957]\n",
      " [-0.3159448  -0.55975588]\n",
      " [ 0.43930173  0.24014025]\n",
      " [ 0.72251919  1.93991952]\n",
      " [ 1.76098317 -1.259665  ]\n",
      " [-0.03272735 -0.01696923]\n",
      " [-0.50475643 -0.45976887]\n",
      " [-1.07119134  0.28299182]\n",
      " [-0.41035062  1.48283602]\n",
      " [-0.12713317  1.18287497]\n",
      " [ 1.57217154  1.39713286]\n",
      " [ 0.816925   -1.1882457 ]\n",
      " [-1.54322042 -0.15980782]\n",
      " [-0.97678552  0.45439814]\n",
      " [-0.3159448   0.16872095]\n",
      " [-1.82643787 -1.01683939]\n",
      " [ 1.28895409  0.9257655 ]\n",
      " [-0.03272735  0.64008831]\n",
      " [-1.82643787 -1.63104534]\n",
      " [-1.54322042  0.29727568]\n",
      " [-1.82643787 -0.03125308]\n",
      " [-0.03272735 -0.23122712]\n",
      " [ 0.2504901  -0.53118817]\n",
      " [ 0.34489592  0.04016621]\n",
      " [-1.35440879  0.52581743]\n",
      " [ 0.53370755  0.16872095]\n",
      " [ 0.91133082 -1.05969097]\n",
      " [-1.26000297 -0.43120115]\n",
      " [-1.92084369  0.2544241 ]\n",
      " [ 2.13860644 -0.81686535]\n",
      " [ 0.91133082  0.41154656]\n",
      " [ 0.816925    0.42583042]\n",
      " [ 0.91133082 -0.55975588]\n",
      " [ 0.91133082 -0.78829764]\n",
      " [-2.01524951 -1.54534219]\n",
      " [-0.59916225  1.19715883]\n",
      " [-0.22153898 -0.38834957]\n",
      " [ 1.76098317 -1.38821973]\n",
      " [-1.16559715 -1.03112325]\n",
      " [ 1.76098317  0.28299182]\n",
      " [ 0.91133082 -0.5883236 ]\n",
      " [-0.97678552 -0.70259448]\n",
      " [-2.01524951 -1.34536816]\n",
      " [ 0.06167847 -0.5883236 ]\n",
      " [ 0.816925    0.02588235]\n",
      " [ 0.34489592  1.63995847]\n",
      " [-0.50475643  0.51153358]]\n"
     ]
    }
   ],
   "source": [
    "print(x_test)"
   ]
  },
  {
   "cell_type": "markdown",
   "id": "de6cbfd9",
   "metadata": {},
   "source": [
    "# Memanggil Naive Bayes\n",
    "Untuk memangil naive bayes maka saya menggunakan library skelarn.naive_bayes dengan menambahkan function GaussianNB."
   ]
  },
  {
   "cell_type": "code",
   "execution_count": 16,
   "id": "587542e2",
   "metadata": {},
   "outputs": [
    {
     "data": {
      "text/plain": [
       "GaussianNB()"
      ]
     },
     "execution_count": 16,
     "metadata": {},
     "output_type": "execute_result"
    }
   ],
   "source": [
    "from sklearn.naive_bayes import GaussianNB\n",
    "classifier = GaussianNB()\n",
    "classifier.fit(x_train, y_train)"
   ]
  },
  {
   "cell_type": "markdown",
   "id": "cb6bd4f5",
   "metadata": {},
   "source": [
    "# Menghitung Prediksi\n",
    "Dalam menghitung prediksi saya menggunakan funtion predict"
   ]
  },
  {
   "cell_type": "code",
   "execution_count": 17,
   "id": "54d11400",
   "metadata": {},
   "outputs": [],
   "source": [
    "y_pred = classifier.predict(x_test)"
   ]
  },
  {
   "cell_type": "markdown",
   "id": "ca3acb15",
   "metadata": {},
   "source": [
    "# Menghitung Evaluasi\n",
    "Pada proses ini dimaksudkan untuk mengetahui tingkat keakuratan/nilai akurasinya. Saya menggunakan diagram confussion matriks untuk mengetahui tingkat keakuratan/ nilai akurasi dari data testing terhadap data prediksi diatas."
   ]
  },
  {
   "cell_type": "code",
   "execution_count": 18,
   "id": "d8cf05d5",
   "metadata": {},
   "outputs": [],
   "source": [
    "from sklearn.metrics import confusion_matrix\n",
    "cm = confusion_matrix(y_test, y_pred)"
   ]
  },
  {
   "cell_type": "code",
   "execution_count": 19,
   "id": "7e21c4f7",
   "metadata": {},
   "outputs": [
    {
     "name": "stdout",
     "output_type": "stream",
     "text": [
      "[[140  12]\n",
      " [ 18  80]]\n"
     ]
    }
   ],
   "source": [
    "print(cm)"
   ]
  },
  {
   "cell_type": "markdown",
   "id": "6ba7c9f6",
   "metadata": {},
   "source": [
    "Maka dari data yang dihasilkan diatas dapat saya hitung bahwa total tingkat akurasinya yaitu 0.88. yaitu dengan membagi 140+80 dengan jumlah keseluruhan dari data yaitu 140+12+18+80 maka dapat menghasilkan tingkat kakuratannya."
   ]
  },
  {
   "cell_type": "markdown",
   "id": "aa3cc721",
   "metadata": {},
   "source": [
    "# Menampilkan Gambar Persebaran Data\n",
    "untuk menampilkan diagram persebaran data yang harus dilakukan pertama kali yaitu mengalokasikan data x_train dan y_train ke variable baru yaitu x1 dan x2 supaya data x_train dan y_train tidak berubah ketika mejalankan proses. Kemudian saya kelompokkkan menjadi x1 untuk menampung age dan x2 untuk menampung annual salary dengan menggunakan function meshgrid dan arange dari numpy. Setelah itu perlu memetakan dari kedua data tersebut dengan function contourf dan saya bedakan warna agar mudah dipahami yaitu jika \"yes\" maka akan tampil merah dan \"no\" akan tampil warna hijau. Kemudian karena saya akan memvisualisasi datanya dengan grafik maka saya perlu mengatur batas sumbu dari plot, maka saya menggunakan xlim dari library matplotlib. Setelah itu saya enumerate kan data nya. dan yang terakhir tidak lupa untuk memberikan judul dan label untuk memperjelas grafik yang saya buat."
   ]
  },
  {
   "cell_type": "code",
   "execution_count": 21,
   "id": "6b76418c",
   "metadata": {},
   "outputs": [
    {
     "name": "stderr",
     "output_type": "stream",
     "text": [
      "*c* argument looks like a single numeric RGB or RGBA sequence, which should be avoided as value-mapping will have precedence in case its length matches with *x* & *y*.  Please use the *color* keyword-argument or provide a 2D array with a single row if you intend to specify the same RGB or RGBA value for all points.\n",
      "*c* argument looks like a single numeric RGB or RGBA sequence, which should be avoided as value-mapping will have precedence in case its length matches with *x* & *y*.  Please use the *color* keyword-argument or provide a 2D array with a single row if you intend to specify the same RGB or RGBA value for all points.\n"
     ]
    },
    {
     "data": {
      "image/png": "[encoded data removed]",
      "text/plain": [
       "<Figure size 640x480 with 1 Axes>"
      ]
     },
     "metadata": {},
     "output_type": "display_data"
    }
   ],
   "source": [
    "from matplotlib.colors import ListedColormap\n",
    "x_set, y_set = x_train, y_train\n",
    "x1, x2 = np.meshgrid(np.arange(start = x_set[:,0].min()-1, stop = x_set[:,0].max()+1, step =0.01),\n",
    "                     np.arange(start = x_set[:,1].min()-1, stop = x_set[:,0].max()+1, step =0.01))\n",
    "plt.contourf(x1,x2, classifier.predict(np.array([x1.ravel(), x2.ravel()]).T).reshape(x1.shape),\n",
    "             alpha = 0.75, cmap = ListedColormap(('red', 'green')))\n",
    "plt.xlim(x1.min(), x1.max())\n",
    "plt.ylim(x2.min(), x2.max())\n",
    "for i, j in enumerate (np.unique(y_set)):\n",
    "    plt.scatter(x_set[y_set == j,0], x_set[y_set==j, 1],\n",
    "               c = ListedColormap(('red', 'green'))(i), label = j)\n",
    "plt.title('Klasifikasi Data dengan Native Bayes (Data Training)')\n",
    "plt.xlabel('Age')\n",
    "plt.ylabel('Annual Salary')\n",
    "plt.legend()\n",
    "plt.show()"
   ]
  },
  {
   "cell_type": "markdown",
   "id": "16410340",
   "metadata": {},
   "source": [
    "Selain itu, saya juga menampilkan visualisasi data testing "
   ]
  },
  {
   "cell_type": "code",
   "execution_count": 23,
   "id": "a12234a0",
   "metadata": {},
   "outputs": [
    {
     "name": "stderr",
     "output_type": "stream",
     "text": [
      "*c* argument looks like a single numeric RGB or RGBA sequence, which should be avoided as value-mapping will have precedence in case its length matches with *x* & *y*.  Please use the *color* keyword-argument or provide a 2D array with a single row if you intend to specify the same RGB or RGBA value for all points.\n",
      "*c* argument looks like a single numeric RGB or RGBA sequence, which should be avoided as value-mapping will have precedence in case its length matches with *x* & *y*.  Please use the *color* keyword-argument or provide a 2D array with a single row if you intend to specify the same RGB or RGBA value for all points.\n"
     ]
    },
    {
     "data": {
      "image/png": "[encoded data removed]",
      "text/plain": [
       "<Figure size 640x480 with 1 Axes>"
      ]
     },
     "metadata": {},
     "output_type": "display_data"
    }
   ],
   "source": [
    "from matplotlib.colors import ListedColormap\n",
    "x_set, y_set = x_test, y_test\n",
    "x1, x2 = np.meshgrid(np.arange(start = x_set[:,0].min()-1, stop = x_set[:,0].max()+1, step =0.01),\n",
    "                     np.arange(start = x_set[:,1].min()-1, stop = x_set[:,0].max()+1, step =0.01))\n",
    "plt.contourf(x1,x2, classifier.predict(np.array([x1.ravel(), x2.ravel()]).T).reshape(x1.shape),\n",
    "             alpha = 0.75, cmap = ListedColormap(('red', 'green')))\n",
    "plt.xlim(x1.min(), x1.max())\n",
    "plt.ylim(x2.min(), x2.max())\n",
    "for i, j in enumerate (np.unique(y_set)):\n",
    "    plt.scatter(x_set[y_set == j,0], x_set[y_set==j, 1],\n",
    "               c = ListedColormap(('red', 'green'))(i), label = j)\n",
    "plt.title('Klasifikasi Data dengan Native Bayes (Data Testing)')\n",
    "plt.xlabel('Age')\n",
    "plt.ylabel('Annual Salary')\n",
    "plt.legend()\n",
    "plt.show()"
   ]
  }
 ],
 "metadata": {
  "kernelspec": {
   "display_name": "Python 3 (ipykernel)",
   "language": "python",
   "name": "python3"
  },
  "language_info": {
   "codemirror_mode": {
    "name": "ipython",
    "version": 3
   },
   "file_extension": ".py",
   "mimetype": "text/x-python",
   "name": "python",
   "nbconvert_exporter": "python",
   "pygments_lexer": "ipython3",
   "version": "3.9.13"
  },
  "toc": {
   "base_numbering": 1,
   "nav_menu": {},
   "number_sections": true,
   "sideBar": true,
   "skip_h1_title": false,
   "title_cell": "Table of Contents",
   "title_sidebar": "Contents",
   "toc_cell": false,
   "toc_position": {},
   "toc_section_display": true,
   "toc_window_display": false
  },
  "varInspector": {
   "cols": {
    "lenName": 16,
    "lenType": 16,
    "lenVar": 40
   },
   "kernels_config": {
    "python": {
     "delete_cmd_postfix": "",
     "delete_cmd_prefix": "del ",
     "library": "var_list.py",
     "varRefreshCmd": "print(var_dic_list())"
    },
    "r": {
     "delete_cmd_postfix": ") ",
     "delete_cmd_prefix": "rm(",
     "library": "var_list.r",
     "varRefreshCmd": "cat(var_dic_list()) "
    }
   },
   "types_to_exclude": [
    "module",
    "function",
    "builtin_function_or_method",
    "instance",
    "_Feature"
   ],
   "window_display": false
  }
 },
 "nbformat": 4,
 "nbformat_minor": 5
}
